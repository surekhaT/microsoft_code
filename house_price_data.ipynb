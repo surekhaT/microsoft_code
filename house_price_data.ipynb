{
 "cells": [
  {
   "cell_type": "code",
   "execution_count": 45,
   "metadata": {},
   "outputs": [
    {
     "data": {
      "text/plain": [
       "['Id',\n",
       " 'MSSubClass',\n",
       " 'LotFrontage',\n",
       " 'LotArea',\n",
       " 'OverallQual',\n",
       " 'OverallCond',\n",
       " 'YearBuilt',\n",
       " 'YearRemodAdd',\n",
       " 'MasVnrArea',\n",
       " 'BsmtFinSF1',\n",
       " 'BsmtFinSF2',\n",
       " 'BsmtUnfSF',\n",
       " 'TotalBsmtSF',\n",
       " '1stFlrSF',\n",
       " '2ndFlrSF',\n",
       " 'LowQualFinSF',\n",
       " 'GrLivArea',\n",
       " 'BsmtFullBath',\n",
       " 'BsmtHalfBath',\n",
       " 'FullBath',\n",
       " 'HalfBath',\n",
       " 'BedroomAbvGr',\n",
       " 'KitchenAbvGr',\n",
       " 'TotRmsAbvGrd',\n",
       " 'Fireplaces',\n",
       " 'GarageYrBlt',\n",
       " 'GarageCars',\n",
       " 'GarageArea',\n",
       " 'WoodDeckSF',\n",
       " 'OpenPorchSF',\n",
       " 'EnclosedPorch',\n",
       " '3SsnPorch',\n",
       " 'ScreenPorch',\n",
       " 'PoolArea',\n",
       " 'MiscVal',\n",
       " 'MoSold',\n",
       " 'YrSold',\n",
       " 'SalePrice']"
      ]
     },
     "execution_count": 45,
     "metadata": {},
     "output_type": "execute_result"
    }
   ],
   "source": [
    "import pandas as pd #this program is house_price_df data columns which having data types int or float\n",
    "import numpy as np\n",
    "house_price_df = pd.read_csv(\"house_price_data set.csv\")\n",
    "house_price_df\n",
    "num_cols=[]\n",
    "for col in house_price_df.columns:\n",
    "    if house_price_df[col].dtype=='int64' or 'float 64': \n",
    "        num_cols.append(col)\n",
    "num_cols\n",
    "\n",
    "numerical_columns=list([col for col in house_price_df.columns if house_price_df[col].dtype=='int64'or \n",
    "                        house_price_df[col].dtype=='float64'])\n",
    "numerical_columns #list comprehession"
   ]
  },
  {
   "cell_type": "code",
   "execution_count": 50,
   "metadata": {},
   "outputs": [
    {
     "data": {
      "text/plain": [
       "Index(['Id', 'MSSubClass', 'MSZoning', 'LotFrontage', 'LotArea', 'Street',\n",
       "       'LotShape', 'LandContour', 'Utilities', 'LotConfig', 'LandSlope',\n",
       "       'Neighborhood', 'Condition1', 'Condition2', 'BldgType', 'HouseStyle',\n",
       "       'OverallQual', 'OverallCond', 'YearBuilt', 'YearRemodAdd', 'RoofStyle',\n",
       "       'RoofMatl', 'Exterior1st', 'Exterior2nd', 'MasVnrType', 'MasVnrArea',\n",
       "       'ExterQual', 'ExterCond', 'Foundation', 'BsmtQual', 'BsmtCond',\n",
       "       'BsmtExposure', 'BsmtFinType1', 'BsmtFinSF1', 'BsmtFinType2',\n",
       "       'BsmtFinSF2', 'BsmtUnfSF', 'TotalBsmtSF', 'Heating', 'HeatingQC',\n",
       "       'CentralAir', 'Electrical', '1stFlrSF', '2ndFlrSF', 'LowQualFinSF',\n",
       "       'GrLivArea', 'BsmtFullBath', 'BsmtHalfBath', 'FullBath', 'HalfBath',\n",
       "       'BedroomAbvGr', 'KitchenAbvGr', 'KitchenQual', 'TotRmsAbvGrd',\n",
       "       'Functional', 'Fireplaces', 'FireplaceQu', 'GarageType', 'GarageYrBlt',\n",
       "       'GarageFinish', 'GarageCars', 'GarageArea', 'GarageQual', 'GarageCond',\n",
       "       'PavedDrive', 'WoodDeckSF', 'OpenPorchSF', 'EnclosedPorch', '3SsnPorch',\n",
       "       'ScreenPorch', 'PoolArea', 'MiscVal', 'MoSold', 'YrSold', 'SaleType',\n",
       "       'SaleCondition', 'SalePrice'],\n",
       "      dtype='object')"
      ]
     },
     "execution_count": 50,
     "metadata": {},
     "output_type": "execute_result"
    }
   ],
   "source": [
    "house_price_df = pd.read_csv(\"house_price_data set.csv\")\n",
    "#'house_price_df' this is my file name\n",
    "house_price_df.columns\n",
    "house_price_df['MSZoning'] #accesing erticular column\n",
    "house_price_df.isnull().sum()\n",
    "#new_df=pd.DataFrame({'Name':['A','B','C','D'],  'Scores':[10,20,30,40]}) #create new data frAME\\  \n",
    "#new_df\n",
    "#missing vales finding\n",
    "missing_values_df=pd.DataFrame({'Column_Name':house_price_df.columns,\n",
    "                               'Missing_Values_Count':house_price_df.isnull().sum(),\n",
    "                               'Missing_Values_Percentage':house_price_df.isnull().sum()/house_price_df.shape[0]*100})\n",
    "\n",
    "missing_values_df=missing_values_df.sort_values(by='Missing_Values_Percentage',ascending=False)\n",
    "#Dropping columns with missing value percentage greater than 50\n",
    "\n",
    "cols_to_drop=list(missing_values_df[missing_values_df['Missing_Values_Percentage']>50]['Column_Name'])\n",
    "\n",
    "house_price_df.drop(columns=cols_to_drop,inplace=True) #'inplace' is the operator to drop the perticular\n",
    "                                                            #column in original data\n",
    "\n",
    "house_price_df.columns"
   ]
  },
  {
   "cell_type": "code",
   "execution_count": 54,
   "metadata": {},
   "outputs": [],
   "source": [
    "cols_to_drop=list(missing_values_df[missing_values_df['Missing_Values_Percentage']<50]['Column_Name'])\n",
    "\n",
    "house_price_df.drop(columns=cols_to_drop,inplace=True) #'inplace' is the operator to drop the perticular\n",
    "                                                            #column in original data\n",
    "\n",
    "house_price_df.columns\n"
   ]
  },
  {
   "cell_type": "code",
   "execution_count": 69,
   "metadata": {},
   "outputs": [],
   "source": [
    "num_cols=[col for col in house_price_df.columns if house_price_df[col].dtype=='int64'\n",
    "                                                 or house_price_df[col].dtype=='float64']\n",
    "cat_cols=[col for col in house_price_df.columns if house_price_df[col].dtype=='object']"
   ]
  },
  {
   "cell_type": "code",
   "execution_count": 61,
   "metadata": {},
   "outputs": [
    {
     "data": {
      "text/plain": [
       "Id               0\n",
       "MSSubClass       0\n",
       "MSZoning         0\n",
       "LotFrontage      0\n",
       "LotArea          0\n",
       "                ..\n",
       "MoSold           0\n",
       "YrSold           0\n",
       "SaleType         0\n",
       "SaleCondition    0\n",
       "SalePrice        0\n",
       "Length: 77, dtype: int64"
      ]
     },
     "execution_count": 61,
     "metadata": {},
     "output_type": "execute_result"
    }
   ],
   "source": [
    "#Filling missing values\n",
    "\n",
    "# for continious variables with mean and categorical median\n",
    "\n",
    "for col in num_cols:\n",
    "    house_price_df[col].fillna(house_price_df[col].mean(),inplace=True)\n",
    "    \n",
    "#for categorical values\n",
    "\n",
    "for col in cat_cols:\n",
    "    house_price_df[col].fillna(house_price_df[col].mode()[0],inplace=True)\n",
    "\n",
    "house_price_df.isnull().sum()\n",
    "    "
   ]
  },
  {
   "cell_type": "code",
   "execution_count": 19,
   "metadata": {},
   "outputs": [
    {
     "data": {
      "text/plain": [
       "Id               0\n",
       "MSSubClass       0\n",
       "MSZoning         0\n",
       "LotFrontage      0\n",
       "LotArea          0\n",
       "                ..\n",
       "MoSold           0\n",
       "YrSold           0\n",
       "SaleType         0\n",
       "SaleCondition    0\n",
       "SalePrice        0\n",
       "Length: 81, dtype: int64"
      ]
     },
     "execution_count": 19,
     "metadata": {},
     "output_type": "execute_result"
    }
   ],
   "source": [
    "num_cols=[col for col in house_price_df.columns if house_price_df[col].dtype=='int64'\n",
    "                                                 or house_price_df[col].dtype=='float64']\n",
    "for col in num_cols:\n",
    "    house_price_df[col].fillna(house_price_df[col].mean(),inplace=True)\n",
    "\n",
    "house_price_df.isnull().sum()"
   ]
  },
  {
   "cell_type": "code",
   "execution_count": 22,
   "metadata": {},
   "outputs": [
    {
     "data": {
      "text/plain": [
       "array([[ 1.        , -0.13978108],\n",
       "       [-0.13978108,  1.        ]])"
      ]
     },
     "execution_count": 22,
     "metadata": {},
     "output_type": "execute_result"
    }
   ],
   "source": [
    "house_price_df[num_cols].median()\n",
    "house_price_df.corr() # correlation table\n",
    "np.corrcoef(house_price_df['MSSubClass'],house_price_df['LotArea']) # it gives co efficients"
   ]
  },
  {
   "cell_type": "code",
   "execution_count": 71,
   "metadata": {},
   "outputs": [
    {
     "name": "stdout",
     "output_type": "stream",
     "text": [
      "Enter number of elements in list: 23\n",
      "Enter elements: 2\n",
      "Enter elements: 3\n",
      "Enter elements: 3\n",
      "Enter elements: 3\n",
      "Enter elements: 33\n",
      "Enter elements: 3\n",
      "Enter elements: 3\n",
      "Enter elements: 3\n",
      "Enter elements: 33\n",
      "Enter elements: 6\n",
      "Enter elements: 6\n",
      "Enter elements: 7\n",
      "Enter elements: 5\n",
      "Enter elements: 4\n",
      "Enter elements: 6\n",
      "Enter elements: 4\n",
      "Enter elements: 4\n",
      "Enter elements: 5\n",
      "Enter elements: 5\n",
      "Enter elements: 6\n",
      "Enter elements: 7\n",
      "Enter elements: 7\n",
      "Enter elements: 4\n",
      "Smallest element is: 2\n"
     ]
    }
   ],
   "source": [
    "# Python program to find smallest  \n",
    "# number in a list \n",
    "  \n",
    "# creating empty list \n",
    "list1 = [] \n",
    "  \n",
    "# asking number of elements to put in list \n",
    "num = int(input(\"Enter number of elements in list: \")) \n",
    "  \n",
    "# iterating till num to append elements in list \n",
    "for i in range(1, num + 1): \n",
    "    ele = int(input(\"Enter elements: \")) \n",
    "    list1.append(ele) \n",
    "      \n",
    "# print maximum element \n",
    "print(\"Smallest element is:\", min(list1)) "
   ]
  },
  {
   "cell_type": "code",
   "execution_count": 75,
   "metadata": {},
   "outputs": [
    {
     "data": {
      "text/plain": [
       "(2, 78)"
      ]
     },
     "execution_count": 75,
     "metadata": {},
     "output_type": "execute_result"
    }
   ],
   "source": [
    "def sort(x):\n",
    "    x.sort()\n",
    "    return x[0],x[-1]\n",
    "sort([23,45,2,56,78,61])\n"
   ]
  },
  {
   "cell_type": "code",
   "execution_count": 77,
   "metadata": {},
   "outputs": [
    {
     "data": {
      "text/plain": [
       "5"
      ]
     },
     "execution_count": 77,
     "metadata": {},
     "output_type": "execute_result"
    }
   ],
   "source": [
    "def addition(*args):\n",
    "    result=0\n",
    "    for ele in args:\n",
    "        result=result+ele\n",
    "    return result\n",
    "addition(2,3)"
   ]
  },
  {
   "cell_type": "code",
   "execution_count": 1,
   "metadata": {},
   "outputs": [
    {
     "data": {
      "text/plain": [
       "15"
      ]
     },
     "execution_count": 1,
     "metadata": {},
     "output_type": "execute_result"
    }
   ],
   "source": [
    "def multiply(*args):\n",
    "    result=1\n",
    "    for ele in args:\n",
    "        result=result*ele\n",
    "    return result\n",
    "multiply(5,3)"
   ]
  },
  {
   "cell_type": "code",
   "execution_count": 6,
   "metadata": {},
   "outputs": [
    {
     "data": {
      "text/plain": [
       "Id                 0\n",
       "MSSubClass         0\n",
       "MSZoning           0\n",
       "LotFrontage      259\n",
       "LotArea            0\n",
       "                ... \n",
       "MoSold             0\n",
       "YrSold             0\n",
       "SaleType           0\n",
       "SaleCondition      0\n",
       "SalePrice          0\n",
       "Length: 81, dtype: int64"
      ]
     },
     "execution_count": 6,
     "metadata": {},
     "output_type": "execute_result"
    }
   ],
   "source": [
    "import pandas as pd #data manipulation libarary\n",
    "import matplotlib.pyplot as plt # data visulaization libariry\n",
    "import seaborn as sns #data \n",
    "\n",
    "house_price_df = pd.read_csv(\"house_price_data set.csv\")\n",
    "\n",
    "house_price_df.columns\n",
    "house_price_df['MSZoning'] #accesing perticular column\n",
    "house_price_df.isnull().sum()\n",
    "#house_price_df['SalePrice'].dtype"
   ]
  },
  {
   "cell_type": "code",
   "execution_count": 36,
   "metadata": {},
   "outputs": [
    {
     "data": {
      "text/plain": [
       "<matplotlib.axes._subplots.AxesSubplot at 0x29ad8f49608>"
      ]
     },
     "execution_count": 36,
     "metadata": {},
     "output_type": "execute_result"
    },
    {
     "data": {
      "image/png": "[encoded data removed]",
      "text/plain": [
       "<Figure size 432x288 with 1 Axes>"
      ]
     },
     "metadata": {
      "needs_background": "light"
     },
     "output_type": "display_data"
    }
   ],
   "source": [
    "import pandas as pd #data manipulation libarary\n",
    "import matplotlib.pyplot as plt # data visulaization libariry\n",
    "import seaborn as sns #data \n",
    "house_price_df = pd.read_csv(\"house_price_data set.csv\")\n",
    "house_price_df\n",
    "house_price_df.shape\n",
    "house_price_df.shape[0]\n",
    "house_price_df.columns\n",
    "house_price_df[['MSSubClass','LotFrontage']]\n",
    "# plt.hist(house_price_df['SalePrice']).describe()\n",
    "sns.distplot(house_price_df['SalePrice'])\n",
    "sns.boxplot(house_price_df['SalePrice'],orient='v')"
   ]
  },
  {
   "cell_type": "code",
   "execution_count": 8,
   "metadata": {},
   "outputs": [
    {
     "data": {
      "text/plain": [
       "dtype('int64')"
      ]
     },
     "execution_count": 8,
     "metadata": {},
     "output_type": "execute_result"
    }
   ],
   "source": [
    "import pandas as pd #data manipulation libarary\n",
    "import matplotlib.pyplot as plt \n",
    "house_price_df = pd.read_csv(\"house_price_data set.csv\")\n",
    "house_price_df\n",
    "house_price_df.shape\n",
    "house_price_df.shape[0]\n",
    "house_price_df.columns\n",
    "house_price_df[['MSSubClass','LotFrontage']]\n",
    "house_price_df.dtypes\n",
    "house_price_df['SalePrice'].dtype"
   ]
  },
  {
   "cell_type": "code",
   "execution_count": 6,
   "metadata": {},
   "outputs": [
    {
     "data": {
      "text/plain": [
       "<matplotlib.axes._subplots.AxesSubplot at 0x1549cf19988>"
      ]
     },
     "execution_count": 6,
     "metadata": {},
     "output_type": "execute_result"
    },
    {
     "data": {
      "image/png": "[encoded data removed]",
      "text/plain": [
       "<Figure size 432x288 with 1 Axes>"
      ]
     },
     "metadata": {
      "needs_background": "light"
     },
     "output_type": "display_data"
    }
   ],
   "source": [
    "# Here we apply centreal limit theorem for the column named by 'salesprice'\n",
    "\n",
    "import pandas as pd\n",
    "import numpy as np\n",
    "import matplotlib.pyplot as plt \n",
    "house_price_df = pd.read_csv(\"house_price_data set.csv\")\n",
    "import random\n",
    "import os\n",
    "\n",
    "sampled_means=[]\n",
    "\n",
    "for i in range(0,1000):\n",
    "    sampled_means.append(house_price_df['LotArea'].sample(n=100).mean())\n",
    "\n",
    "pd.Series(sampled_means).hist(bins=100)\n",
    "    "
   ]
  }
 ],
 "metadata": {
  "kernelspec": {
   "display_name": "Python 3",
   "language": "python",
   "name": "python3"
  },
  "language_info": {
   "codemirror_mode": {
    "name": "ipython",
    "version": 3
   },
   "file_extension": ".py",
   "mimetype": "text/x-python",
   "name": "python",
   "nbconvert_exporter": "python",
   "pygments_lexer": "ipython3",
   "version": "3.7.4"
  }
 },
 "nbformat": 4,
 "nbformat_minor": 2
}
